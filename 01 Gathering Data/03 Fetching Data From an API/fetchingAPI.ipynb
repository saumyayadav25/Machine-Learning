{
  "metadata": {
    "kernelspec": {
      "name": "python",
      "display_name": "Python (Pyodide)",
      "language": "python"
    },
    "language_info": {
      "codemirror_mode": {
        "name": "python",
        "version": 3
      },
      "file_extension": ".py",
      "mimetype": "text/x-python",
      "name": "python",
      "nbconvert_exporter": "python",
      "pygments_lexer": "ipython3",
      "version": "3.8"
    }
  },
  "nbformat_minor": 4,
  "nbformat": 4,
  "cells": [
    {
      "cell_type": "code",
      "source": "import pandas as pd\nimport requests",
      "metadata": {
        "trusted": true
      },
      "outputs": [],
      "execution_count": 1
    },
    {
      "cell_type": "code",
      "source": "response = requests.get('https://randomuser.me/api')",
      "metadata": {
        "trusted": true
      },
      "outputs": [
        {
          "name": "stderr",
          "text": "/lib/python3.11/site-packages/urllib3/connectionpool.py:1101: InsecureRequestWarning: Unverified HTTPS request is being made to host 'randomuser.me'. Adding certificate verification is strongly advised. See: https://urllib3.readthedocs.io/en/latest/advanced-usage.html#tls-warnings\n  warnings.warn(\n",
          "output_type": "stream"
        }
      ],
      "execution_count": 2
    },
    {
      "cell_type": "code",
      "source": "response.status_code",
      "metadata": {
        "trusted": true
      },
      "outputs": [
        {
          "execution_count": 6,
          "output_type": "execute_result",
          "data": {
            "text/plain": "200"
          },
          "metadata": {}
        }
      ],
      "execution_count": 6
    },
    {
      "cell_type": "code",
      "source": "response.json()",
      "metadata": {
        "trusted": true
      },
      "outputs": [
        {
          "execution_count": 8,
          "output_type": "execute_result",
          "data": {
            "text/plain": "{'results': [{'gender': 'female',\n   'name': {'title': 'Ms', 'first': 'Dora', 'last': 'Henderson'},\n   'location': {'street': {'number': 9200, 'name': 'Parker Rd'},\n    'city': 'Warragul',\n    'state': 'Victoria',\n    'country': 'Australia',\n    'postcode': 2992,\n    'coordinates': {'latitude': '-89.1114', 'longitude': '78.4177'},\n    'timezone': {'offset': '-7:00',\n     'description': 'Mountain Time (US & Canada)'}},\n   'email': 'dora.henderson@example.com',\n   'login': {'uuid': '46d2e9fc-ffe6-49a5-b99b-f01eaff6e0e3',\n    'username': 'redzebra145',\n    'password': 'moon',\n    'salt': '04zLPwRL',\n    'md5': 'cf3d37b891f5df1bff07aff16c03b18a',\n    'sha1': '940158b6332de9b5c49569e102de37791d10bf78',\n    'sha256': 'e01eeedb27a5b2474d8cccffb48de8a5100a1327bd48f9fd5598b627c08a3d8c'},\n   'dob': {'date': '1948-04-19T17:18:19.724Z', 'age': 76},\n   'registered': {'date': '2020-09-24T19:33:23.600Z', 'age': 3},\n   'phone': '09-9490-8170',\n   'cell': '0436-486-090',\n   'id': {'name': 'TFN', 'value': '287304267'},\n   'picture': {'large': 'https://randomuser.me/api/portraits/women/64.jpg',\n    'medium': 'https://randomuser.me/api/portraits/med/women/64.jpg',\n    'thumbnail': 'https://randomuser.me/api/portraits/thumb/women/64.jpg'},\n   'nat': 'AU'}],\n 'info': {'seed': '9f3de5b8dc88e485',\n  'results': 1,\n  'page': 1,\n  'version': '1.4'}}"
          },
          "metadata": {}
        }
      ],
      "execution_count": 8
    },
    {
      "cell_type": "code",
      "source": "gender = response.json()['results'][0]['gender']\ngender",
      "metadata": {
        "trusted": true
      },
      "outputs": [
        {
          "execution_count": 9,
          "output_type": "execute_result",
          "data": {
            "text/plain": "'female'"
          },
          "metadata": {}
        }
      ],
      "execution_count": 9
    },
    {
      "cell_type": "code",
      "source": "first_name = response.json()['results'][0]['name']['first']\nfirst_name",
      "metadata": {
        "trusted": true
      },
      "outputs": [
        {
          "execution_count": 11,
          "output_type": "execute_result",
          "data": {
            "text/plain": "'Dora'"
          },
          "metadata": {}
        }
      ],
      "execution_count": 11
    },
    {
      "cell_type": "code",
      "source": "last_name = response.json()['results'][0]['name']['last']\nlast_name",
      "metadata": {
        "trusted": true
      },
      "outputs": [
        {
          "execution_count": 12,
          "output_type": "execute_result",
          "data": {
            "text/plain": "'Henderson'"
          },
          "metadata": {}
        }
      ],
      "execution_count": 12
    },
    {
      "cell_type": "code",
      "source": "title = response.json()['results'][0]['name']['title']\ntitle",
      "metadata": {
        "trusted": true
      },
      "outputs": [
        {
          "execution_count": 14,
          "output_type": "execute_result",
          "data": {
            "text/plain": "'Ms'"
          },
          "metadata": {}
        }
      ],
      "execution_count": 14
    },
    {
      "cell_type": "code",
      "source": "print(f'{title} {first_name} {last_name}')",
      "metadata": {
        "trusted": true
      },
      "outputs": [
        {
          "name": "stdout",
          "text": "Ms Dora Henderson\n",
          "output_type": "stream"
        }
      ],
      "execution_count": 15
    },
    {
      "cell_type": "code",
      "source": "age = response.json()['results'][0]['dob']['age']\nage",
      "metadata": {
        "trusted": true
      },
      "outputs": [
        {
          "execution_count": 16,
          "output_type": "execute_result",
          "data": {
            "text/plain": "76"
          },
          "metadata": {}
        }
      ],
      "execution_count": 16
    },
    {
      "cell_type": "code",
      "source": "temp_df = pd.DataFrame(response.json()['results'])[['gender','name','location','dob']]",
      "metadata": {
        "trusted": true
      },
      "outputs": [],
      "execution_count": 25
    },
    {
      "cell_type": "code",
      "source": "temp_df",
      "metadata": {
        "trusted": true
      },
      "outputs": [
        {
          "execution_count": 26,
          "output_type": "execute_result",
          "data": {
            "text/plain": "   gender                                               name  \\\n0  female  {'title': 'Ms', 'first': 'Dora', 'last': 'Hend...   \n\n                                            location  \\\n0  {'street': {'number': 9200, 'name': 'Parker Rd...   \n\n                                               dob  \n0  {'date': '1948-04-19T17:18:19.724Z', 'age': 76}  ",
            "text/html": "<div>\n<style scoped>\n    .dataframe tbody tr th:only-of-type {\n        vertical-align: middle;\n    }\n\n    .dataframe tbody tr th {\n        vertical-align: top;\n    }\n\n    .dataframe thead th {\n        text-align: right;\n    }\n</style>\n<table border=\"1\" class=\"dataframe\">\n  <thead>\n    <tr style=\"text-align: right;\">\n      <th></th>\n      <th>gender</th>\n      <th>name</th>\n      <th>location</th>\n      <th>dob</th>\n    </tr>\n  </thead>\n  <tbody>\n    <tr>\n      <th>0</th>\n      <td>female</td>\n      <td>{'title': 'Ms', 'first': 'Dora', 'last': 'Hend...</td>\n      <td>{'street': {'number': 9200, 'name': 'Parker Rd...</td>\n      <td>{'date': '1948-04-19T17:18:19.724Z', 'age': 76}</td>\n    </tr>\n  </tbody>\n</table>\n</div>"
          },
          "metadata": {}
        }
      ],
      "execution_count": 26
    },
    {
      "cell_type": "code",
      "source": "temp_df.to_csv('randomuser.csv')",
      "metadata": {
        "trusted": true
      },
      "outputs": [],
      "execution_count": 27
    },
    {
      "cell_type": "code",
      "source": "",
      "metadata": {
        "trusted": true
      },
      "outputs": [],
      "execution_count": null
    }
  ]
}