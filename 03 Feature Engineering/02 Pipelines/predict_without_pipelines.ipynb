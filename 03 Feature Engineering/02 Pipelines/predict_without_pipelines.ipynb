{
  "nbformat": 4,
  "nbformat_minor": 0,
  "metadata": {
    "colab": {
      "provenance": []
    },
    "kernelspec": {
      "name": "python3",
      "display_name": "Python 3"
    },
    "language_info": {
      "name": "python"
    }
  },
  "cells": [
    {
      "cell_type": "code",
      "execution_count": 6,
      "metadata": {
        "id": "klXo_wozpi3q"
      },
      "outputs": [],
      "source": [
        "import pickle\n",
        "import os\n",
        "import numpy as np"
      ]
    },
    {
      "cell_type": "code",
      "source": [
        "ohe_sex = pickle.load(open('models/ohe_sex.pkl','rb'))\n",
        "ohe_embarked = pickle.load(open('models/ohe_embarked.pkl','rb'))\n",
        "clf = pickle.load(open('models/clf.pkl','rb'))"
      ],
      "metadata": {
        "id": "MBhURkUpppLI"
      },
      "execution_count": 9,
      "outputs": []
    },
    {
      "cell_type": "code",
      "source": [
        "# Assume user input\n",
        "# Pclass/gender/age/SibSp/Parch/Fare/Embarked\n",
        "test_input = np.array([2, 'male', 31.0, 0, 0, 10.5, 'S'],dtype=object).reshape(1,7)"
      ],
      "metadata": {
        "id": "VHyFu2wSpsw2"
      },
      "execution_count": 10,
      "outputs": []
    },
    {
      "cell_type": "code",
      "source": [
        "test_input"
      ],
      "metadata": {
        "colab": {
          "base_uri": "https://localhost:8080/"
        },
        "id": "6fuwT71XqNuN",
        "outputId": "49a4eb93-7fcb-4521-a0ca-72e66417d60a"
      },
      "execution_count": 11,
      "outputs": [
        {
          "output_type": "execute_result",
          "data": {
            "text/plain": [
              "array([[2, 'male', 31.0, 0, 0, 10.5, 'S']], dtype=object)"
            ]
          },
          "metadata": {},
          "execution_count": 11
        }
      ]
    },
    {
      "cell_type": "code",
      "source": [
        "test_input_sex = ohe_sex.transform(test_input[:,1].reshape(1,1))\n",
        "test_input_sex"
      ],
      "metadata": {
        "colab": {
          "base_uri": "https://localhost:8080/"
        },
        "id": "8TQDMKAgqPnd",
        "outputId": "44796592-e6fd-4e7f-e1cc-2c5e61abccb4"
      },
      "execution_count": 12,
      "outputs": [
        {
          "output_type": "stream",
          "name": "stderr",
          "text": [
            "/usr/local/lib/python3.10/dist-packages/sklearn/base.py:465: UserWarning: X does not have valid feature names, but OneHotEncoder was fitted with feature names\n",
            "  warnings.warn(\n"
          ]
        },
        {
          "output_type": "execute_result",
          "data": {
            "text/plain": [
              "array([[0., 1.]])"
            ]
          },
          "metadata": {},
          "execution_count": 12
        }
      ]
    },
    {
      "cell_type": "code",
      "source": [
        "test_input_embarked = ohe_embarked.transform(test_input[:,-1].reshape(1,1))\n",
        "test_input_embarked"
      ],
      "metadata": {
        "colab": {
          "base_uri": "https://localhost:8080/"
        },
        "id": "3ZW3PtOAqS7D",
        "outputId": "e6a15160-4571-4d5d-b356-792b32569454"
      },
      "execution_count": 13,
      "outputs": [
        {
          "output_type": "execute_result",
          "data": {
            "text/plain": [
              "array([[0., 0., 1.]])"
            ]
          },
          "metadata": {},
          "execution_count": 13
        }
      ]
    },
    {
      "cell_type": "code",
      "source": [
        "test_input_age = test_input[:,2].reshape(1,1)"
      ],
      "metadata": {
        "id": "edo6hloGqWzC"
      },
      "execution_count": 14,
      "outputs": []
    },
    {
      "cell_type": "code",
      "source": [
        "test_input_transformed = np.concatenate((test_input[:,[0,3,4,5]],test_input_age,test_input_sex,test_input_embarked),axis=1)"
      ],
      "metadata": {
        "id": "owRGvCxfqbjW"
      },
      "execution_count": 15,
      "outputs": []
    },
    {
      "cell_type": "code",
      "source": [
        "test_input_transformed.shape"
      ],
      "metadata": {
        "colab": {
          "base_uri": "https://localhost:8080/"
        },
        "id": "R-c3Ij6zqeqU",
        "outputId": "3ccf8911-3b93-4ca9-e537-103ce2382050"
      },
      "execution_count": 16,
      "outputs": [
        {
          "output_type": "execute_result",
          "data": {
            "text/plain": [
              "(1, 10)"
            ]
          },
          "metadata": {},
          "execution_count": 16
        }
      ]
    },
    {
      "cell_type": "code",
      "source": [
        "clf.predict(test_input_transformed)"
      ],
      "metadata": {
        "colab": {
          "base_uri": "https://localhost:8080/"
        },
        "id": "4CTwhEAqqg67",
        "outputId": "1539e024-93e0-45ef-f96c-96ef9e855dc7"
      },
      "execution_count": 17,
      "outputs": [
        {
          "output_type": "execute_result",
          "data": {
            "text/plain": [
              "array([1])"
            ]
          },
          "metadata": {},
          "execution_count": 17
        }
      ]
    }
  ]
}